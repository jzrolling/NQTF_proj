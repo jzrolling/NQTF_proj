{
 "cells": [
  {
   "cell_type": "code",
   "execution_count": 1,
   "id": "e8f2b3b9-4fde-4204-abc8-7a052851b93d",
   "metadata": {},
   "outputs": [
    {
     "name": "stdout",
     "output_type": "stream",
     "text": [
      "/Users/jz-rolling/Desktop/DeepLearningPilot\n"
     ]
    }
   ],
   "source": [
    "cd ~/Desktop/DeepLearningPilot/"
   ]
  },
  {
   "cell_type": "code",
   "execution_count": 142,
   "id": "41b57a51-febb-4754-84c0-bf564d5b75bf",
   "metadata": {},
   "outputs": [],
   "source": [
    "import numpy as np, pandas as pd\n",
    "import matplotlib.pyplot as plt\n",
    "import networkx as nx\n",
    "from skimage import filters,morphology,measure\n",
    "from scipy.stats import pearsonr\n",
    "import seaborn as sns\n",
    "from ncolor import label\n",
    "from timeit import default_timer\n",
    "import pickle as pk, glob, os\n",
    "import momia2 as mo\n",
    "from ncolor import label\n",
    "import tifffile\n",
    "from matplotlib import cm\n",
    "import cv2"
   ]
  },
  {
   "cell_type": "code",
   "execution_count": 137,
   "id": "26e88eea-815e-4a5e-8a8e-4c1258fc4a62",
   "metadata": {},
   "outputs": [],
   "source": [
    "sample_dict = {}\n",
    "for i in range(1,6):\n",
    "    for j,k in enumerate(sorted(glob.glob('/Volumes/JZSSD_temp/20190709_NQTF/pred_results/{}_*tracker.pk'.format(i)))):\n",
    "        header = k.split('_tracker.pk')[0]\n",
    "        phase = np.load(header+'_clips.npy')\n",
    "        masks = np.load(header+'_omni_masks.npy')\n",
    "        fitc = np.load(header+'_fitc.npy')\n",
    "        merged_rp = pk.load(open(k,'rb'))\n",
    "        sample_dict['{}_{}'.format(i,j)] = [phase,fitc,merged_rp,k,masks]"
   ]
  },
  {
   "cell_type": "raw",
   "id": "72577668-0410-47a8-928c-934f67d5dc2d",
   "metadata": {},
   "source": [
    "RIF_drange: 550-1800\n",
    "INH_drange: 550-1800\n",
    "EMB_drange: 550-1800\n",
    "selected_rois\n",
    "'2_0'\n",
    "'2_5'\n",
    "'2_6'\n",
    "'8_3'\n",
    "'9_2'\n",
    "'10_1'\n",
    "'10_3'\n",
    "'11_3'\n",
    "'11_6'"
   ]
  },
  {
   "cell_type": "code",
   "execution_count": 140,
   "id": "fb21f0b6-bed7-49e3-80df-9ea1e4e3edd3",
   "metadata": {
    "tags": []
   },
   "outputs": [],
   "source": [
    "k = '2_6'\n",
    "merged_rp = sample_dict[k][2]\n",
    "phase = sample_dict[k][0]\n",
    "fitc = sample_dict[k][1]\n",
    "folder = '/Volumes/JZSSD_temp/20190709_NQTF/trace_plot/EMB/{}/'.format(k)\n",
    "if not os.path.isdir(folder):\n",
    "    os.mkdir(folder)\n",
    "\n",
    "unique_cells = merged_rp['cell_lineage'].unique()\n",
    "count_dict = {}\n",
    "for x in unique_cells:\n",
    "    rid = x.split('.')[0]\n",
    "    if not rid in count_dict:\n",
    "        count_dict[rid]=1\n",
    "    else:\n",
    "        count_dict[rid]+=1\n",
    "#filter count\n",
    "color_count = 0\n",
    "color_dict = {}\n",
    "for i,(ac,count) in enumerate(count_dict.items()):\n",
    "    if count>2:\n",
    "        color_dict[ac]=cm.get_cmap('tab20')(color_count)\n",
    "        color_count+=1\n",
    "\n",
    "for t in merged_rp['$time'].unique():\n",
    "    #img=label(tracker_msm.frames[t].labeled_mask)\n",
    "    img = phase[t]\n",
    "    fl = fitc[t]\n",
    "    h,w = img.shape\n",
    "    fig,axes=plt.subplots(figsize=(w/25,h/50),ncols=2,gridspec_kw={'wspace':0})\n",
    "    \n",
    "    axes[0].imshow(img,cmap='gist_gray',vmax=1)\n",
    "    axes[1].imshow(fl,cmap='gist_gray',vmin=550,vmax=1800)\n",
    "    subset = merged_rp[merged_rp['$time']==t].copy()\n",
    "    for l in subset['cell_lineage'].unique():\n",
    "        anc = l.split('.')[0]\n",
    "        if anc in color_dict:\n",
    "            color=color_dict[anc]\n",
    "            cell = subset[subset['cell_lineage']==l].copy()\n",
    "            for c in cell.index:\n",
    "                x1,y1,contours,touching_edge = cell.loc[c,['$opt-x1','$opt-y1','$refined_contours','$touching_edge']].values\n",
    "                if len(contours)>0:\n",
    "                    if len(contours[0])>10:\n",
    "                        #contours = [mo.utils.contour.contour_moving_window_smoothing(contours[0])]\n",
    "                        #simp_contour=mo.core.patch.approximate_polygon(contour,tolerance=0.5)\n",
    "                        xc,yc = contours[0].T\n",
    "                        xc = xc+x1\n",
    "                        yc = yc+y1\n",
    "                        axes[0].fill(yc,xc,fc=color,ec=None,alpha=0.4)\n",
    "                        axes[0].plot(yc,xc,color=color,lw=1.5,alpha=1)\n",
    "                        axes[1].plot(yc,xc,color=color,lw=1.5,alpha=1)\n",
    "    axes[0].axis('off')\n",
    "    axes[1].axis('off')\n",
    "    axes[0].text(0.05,0.95,'{} hours'.format(round(t*0.25,2)),transform=axes[0].transAxes,\n",
    "                 ha='left',va='top',zorder=3,color='w',fontsize=18,fontweight='bold',fontname='Arial')\n",
    "    axes[0].plot([(0.05*w),(0.05*w)+(5/0.065)],[0.9*h,0.9*h],color='w',lw=8)\n",
    "    plt.savefig('{}{}.png'.format(folder,t),bbox_inches='tight')\n",
    "    plt.close()"
   ]
  },
  {
   "cell_type": "code",
   "execution_count": 155,
   "id": "27c198c8-3103-4855-83ac-8a8c55084d53",
   "metadata": {},
   "outputs": [],
   "source": [
    "# render movies\n",
    "f = '/Volumes/JZSSD_temp/20190709_NQTF/trace_plot/RIF/11_6/'\n",
    "header = f.split('/')[-2]\n",
    "frames = []\n",
    "\n",
    "for i in range(0,90):\n",
    "    p = f+'{}.png'.format(i)\n",
    "    img = cv2.imread(p)\n",
    "    height, width, _c = img.shape\n",
    "    frames.append(img)\n",
    "fourcc = cv2.VideoWriter_fourcc('M','J','P','G')\n",
    "out2 = cv2.VideoWriter('/Volumes/JZSSD_temp/20190709_NQTF/trace_plot/{}.avi'.format(header),\n",
    "                        fourcc, fps=6, frameSize=np.flip(img.shape[:2])) \n",
    "for i in range(len(frames)):\n",
    "    out2.write(frames[i])\n",
    "out2.release()"
   ]
  }
 ],
 "metadata": {
  "kernelspec": {
   "display_name": "Python 3 (ipykernel)",
   "language": "python",
   "name": "python3"
  },
  "language_info": {
   "codemirror_mode": {
    "name": "ipython",
    "version": 3
   },
   "file_extension": ".py",
   "mimetype": "text/x-python",
   "name": "python",
   "nbconvert_exporter": "python",
   "pygments_lexer": "ipython3",
   "version": "3.8.12"
  }
 },
 "nbformat": 4,
 "nbformat_minor": 5
}
