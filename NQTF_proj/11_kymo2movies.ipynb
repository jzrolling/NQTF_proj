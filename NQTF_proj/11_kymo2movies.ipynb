{
 "cells": [
  {
   "cell_type": "code",
   "execution_count": 1,
   "id": "af59bea9-c06c-4cd0-a294-88fef71fac79",
   "metadata": {},
   "outputs": [
    {
     "name": "stdout",
     "output_type": "stream",
     "text": [
      "/Users/jz-rolling/Desktop/DeepLearningPilot\n"
     ]
    }
   ],
   "source": [
    "cd ~/Desktop/DeepLearningPilot/"
   ]
  },
  {
   "cell_type": "code",
   "execution_count": 2,
   "id": "74445b86-9494-4fd7-97ff-45fcf0d1efd5",
   "metadata": {},
   "outputs": [],
   "source": [
    "import numpy as np, pandas as pd\n",
    "import matplotlib.pyplot as plt\n",
    "import networkx as nx\n",
    "from skimage import filters,morphology,measure\n",
    "from scipy.stats import pearsonr\n",
    "import seaborn as sns\n",
    "from ncolor import label\n",
    "from timeit import default_timer\n",
    "import pickle as pk, glob, os\n",
    "import momia2 as mo\n",
    "from ncolor import label\n",
    "import tifffile\n",
    "from matplotlib import cm\n",
    "import cv2"
   ]
  },
  {
   "cell_type": "code",
   "execution_count": 66,
   "id": "a094f4cd-df67-4993-8559-0d6cdb1633b5",
   "metadata": {},
   "outputs": [],
   "source": [
    "sample_dict = {}\n",
    "for i in [7,8,9]:\n",
    "    for j,k in enumerate(sorted(glob.glob('/Volumes/JZSSD_temp/20190709_NQTF/pred_results/{}_*tracker.pk'.format(i)))):\n",
    "        header = k.split('_tracker.pk')[0]\n",
    "        phase = np.load(header+'_clips.npy')\n",
    "        masks = np.load(header+'_omni_masks.npy')\n",
    "        fitc = np.load(header+'_fitc.npy')\n",
    "        merged_rp = pk.load(open(k,'rb'))\n",
    "        sample_dict['{}_{}'.format(i,j)] = [phase,fitc,merged_rp,k,masks]"
   ]
  },
  {
   "cell_type": "code",
   "execution_count": 67,
   "id": "858a649b-d142-4aeb-8c98-ab5ecfefd097",
   "metadata": {
    "tags": []
   },
   "outputs": [],
   "source": [
    "files = sorted(glob.glob('/Volumes/JZSSD_temp/20190709_NQTF/3_kymographs/INH_selected/*.png'))\n",
    "for f in files:\n",
    "    roi = '_'.join(f.split('/')[-1].split('_')[:2])\n",
    "    cid = f.split('/')[-1].split('_')[-1].split('.png')[0]\n",
    "    subf = '/Volumes/JZSSD_temp/20190709_NQTF/3_kymographs/INH_selected/{}_{}/'.format(roi,cid)\n",
    "    if not os.path.isdir(subf):\n",
    "        os.mkdir(subf)\n",
    "    phase=sample_dict[roi][0]\n",
    "    fitc= sample_dict[roi][1]\n",
    "    subset = sample_dict[roi][2][sample_dict[roi][2]['cell_lineage']==cid].copy()\n",
    "    contours = subset['$refined_contours'].values\n",
    "    x1 = subset['$opt-x1'].values\n",
    "    y1 = subset['$opt-y1'].values\n",
    "    _x1 = subset['$opt-x1'].min()\n",
    "    _x2 = subset['$opt-x2'].max()\n",
    "    _y1 = subset['$opt-y1'].min()\n",
    "    _y2 = subset['$opt-y2'].max()\n",
    "    times = subset['$time'].values\n",
    "    start_t = times[0]\n",
    "    end_t = times[-1]\n",
    "    h,w = _x2-_x1, _y2-_y1\n",
    "    \n",
    "    for t in range(start_t,end_t):\n",
    "        if h>w:\n",
    "            fig,axes=plt.subplots(figsize=(2*w/40,h/40),ncols=2,gridspec_kw={'wspace':0})\n",
    "        else:\n",
    "            fig,axes=plt.subplots(figsize=(w/40,2*h/40),nrows=2,gridspec_kw={'hspace':0})\n",
    "            \n",
    "        axes[0].imshow(phase[t,_x1:_x2,_y1:_y2],cmap='gist_gray',vmin=0,vmax=1)\n",
    "        axes[1].imshow(fitc[t,_x1:_x2,_y1:_y2],cmap='gist_gray',vmin=950,vmax=2000)\n",
    "        axes[0].axis('off')\n",
    "        axes[1].axis('off')\n",
    "        cx = contours[t-start_t][0][:,0]+x1[t-start_t]-_x1\n",
    "        cy = contours[t-start_t][0][:,1]+y1[t-start_t]-_y1\n",
    "        axes[0].plot(cy,cx,color='orange',lw=0.5)\n",
    "        axes[1].plot(cy,cx,color='orange',lw=0.5)\n",
    "        axes[0].plot([5,5+1/0.065],[5,5],color='w',lw=3)\n",
    "        axes[0].text(0,-1,'{} hours'.format(t*0.25),color='black',va='bottom',ha='left',fontsize=12)\n",
    "        plt.savefig(subf+'{}.png'.format(t),bbox_inches='tight')\n",
    "        plt.close()"
   ]
  },
  {
   "cell_type": "code",
   "execution_count": 68,
   "id": "8e9d7a5e-35d0-41fc-b1e5-0c64acb2c877",
   "metadata": {},
   "outputs": [],
   "source": [
    "# render movies\n",
    "for root in sorted(glob.glob('/Volumes/JZSSD_temp/20190709_NQTF/3_kymographs/*_selected/')):\n",
    "    for f in sorted(glob.glob(root+'*/')):\n",
    "        #f = '/Volumes/JZSSD_temp/20190709_NQTF/trace_plot/RIF/11_6/'\n",
    "        header = f.split('/')[-2]\n",
    "        frames = []\n",
    "\n",
    "        for p in sorted(glob.glob(f+'*.png')):\n",
    "            #p = f+'{}.png'.format(i)\n",
    "            img = cv2.imread(p)\n",
    "            height, width, _c = img.shape\n",
    "            frames.append(img)\n",
    "        fourcc = cv2.VideoWriter_fourcc('M','J','P','G')\n",
    "        out2 = cv2.VideoWriter(root+'{}.avi'.format(header),\n",
    "                                fourcc, fps=6, frameSize=np.flip(img.shape[:2])) \n",
    "        for i in range(len(frames)):\n",
    "            out2.write(frames[i])\n",
    "        out2.release()"
   ]
  }
 ],
 "metadata": {
  "kernelspec": {
   "display_name": "Python 3 (ipykernel)",
   "language": "python",
   "name": "python3"
  },
  "language_info": {
   "codemirror_mode": {
    "name": "ipython",
    "version": 3
   },
   "file_extension": ".py",
   "mimetype": "text/x-python",
   "name": "python",
   "nbconvert_exporter": "python",
   "pygments_lexer": "ipython3",
   "version": "3.8.12"
  }
 },
 "nbformat": 4,
 "nbformat_minor": 5
}
